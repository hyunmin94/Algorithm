{
 "cells": [
  {
   "cell_type": "code",
   "execution_count": 11,
   "metadata": {},
   "outputs": [],
   "source": [
    "def solution(bridge_length, weight, truck_weights):\n",
    "    \n",
    "    # 다리 위에 있는 트럭의 전체 무게를 저장하는 변수\n",
    "    pop_truck_weights_total = 0\n",
    "    # 다리를 지나온 트럭의 전체 무게를 저장하는 변수\n",
    "    pop_bridge_truck_total = 0\n",
    "    bridge_truck = [0] * bridge_length\n",
    "    answer = 0\n",
    "    \n",
    "    while bridge_truck:\n",
    "        pop_bridge_truck_total += bridge_truck.pop(0)\n",
    "        answer +=1\n",
    "        \n",
    "        if truck_weights:\n",
    "            if (pop_truck_weights_total - pop_bridge_truck_total) + truck_weights[0] <= weight:\n",
    "                pop_truck = truck_weights.pop(0)\n",
    "                pop_truck_weights_total += pop_truck\n",
    "                bridge_truck.append(pop_truck)\n",
    "            \n",
    "            else:\n",
    "                bridge_truck.append(0)\n",
    "    return answer\n"
   ]
  },
  {
   "cell_type": "code",
   "execution_count": 12,
   "metadata": {
    "scrolled": true
   },
   "outputs": [
    {
     "data": {
      "text/plain": [
       "101"
      ]
     },
     "execution_count": 12,
     "metadata": {},
     "output_type": "execute_result"
    }
   ],
   "source": [
    "solution(100, 100, [10])"
   ]
  }
 ],
 "metadata": {
  "kernelspec": {
   "display_name": "Python 3",
   "language": "python",
   "name": "python3"
  },
  "language_info": {
   "codemirror_mode": {
    "name": "ipython",
    "version": 3
   },
   "file_extension": ".py",
   "mimetype": "text/x-python",
   "name": "python",
   "nbconvert_exporter": "python",
   "pygments_lexer": "ipython3",
   "version": "3.7.6"
  }
 },
 "nbformat": 4,
 "nbformat_minor": 4
}
