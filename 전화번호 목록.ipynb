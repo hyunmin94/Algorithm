{
 "cells": [
  {
   "cell_type": "code",
   "execution_count": 1,
   "metadata": {},
   "outputs": [],
   "source": [
    "# find 함수를 이용하여 검색된 위치라 0(첫번째) 위치인지를 조건으로 판단\n",
    "def solution(phone_book):\n",
    "    \n",
    "    phone_book.sort(key=len)\n",
    "    \n",
    "    for idx, fir_phone_number in enumerate(phone_book[:-1]):\n",
    "        \n",
    "        for sec_phone_number in phone_book[idx+1:]:\n",
    "            \n",
    "            if sec_phone_number.find(fir_phone_number) == 0:\n",
    "                return False\n",
    "            \n",
    "    return True\n",
    "\n",
    "# startswith 함수를 이용하여 인자 문자열이 선행 문자열의 시작 위치에 존재하는지 조건으로 판단\n",
    "def solution(phone_book):\n",
    "    \n",
    "    phone_book.sort(key=len)\n",
    "    \n",
    "    for idx, fir_phone_number in enumerate(phone_book[:-1]):\n",
    "        \n",
    "        for sec_phone_number in phone_book[idx+1:]:\n",
    "\n",
    "            if sec_phone_number.startswith(fir_phone_number):\n",
    "                return False\n",
    "            \n",
    "    return True"
   ]
  },
  {
   "cell_type": "code",
   "execution_count": 3,
   "metadata": {},
   "outputs": [
    {
     "data": {
      "text/plain": [
       "False"
      ]
     },
     "execution_count": 3,
     "metadata": {},
     "output_type": "execute_result"
    }
   ],
   "source": [
    "solution([\"119\", \"97674223\", \"1195524421\"])"
   ]
  },
  {
   "cell_type": "code",
   "execution_count": null,
   "metadata": {},
   "outputs": [],
   "source": []
  }
 ],
 "metadata": {
  "kernelspec": {
   "display_name": "Python 3",
   "language": "python",
   "name": "python3"
  },
  "language_info": {
   "codemirror_mode": {
    "name": "ipython",
    "version": 3
   },
   "file_extension": ".py",
   "mimetype": "text/x-python",
   "name": "python",
   "nbconvert_exporter": "python",
   "pygments_lexer": "ipython3",
   "version": "3.7.6"
  }
 },
 "nbformat": 4,
 "nbformat_minor": 4
}
