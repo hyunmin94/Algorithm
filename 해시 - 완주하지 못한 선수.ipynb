{
 "cells": [
  {
   "cell_type": "code",
   "execution_count": 9,
   "metadata": {},
   "outputs": [],
   "source": [
    "# Hash \n",
    "from collections import Counter\n",
    "\n",
    "def solution(participant, completion):\n",
    "    # Counter 클래스는 세트(set)와 동일하게 차집합이 가능하다.\n",
    "    # 원소와 원소의 카운트값을 딕셔너리 형태로 생성\n",
    "    answer = Counter(participant) - Counter(completion)\n",
    "    return list(answer.keys())[0]\n",
    "\n",
    "# basic \n",
    "def solution(participant, completion):\n",
    "    participant.sort()\n",
    "    completion.sort()\n",
    "    for index in range(len(completion)):\n",
    "        if participant[index] != completion[index]:\n",
    "            return participant[index]\n",
    "    return participant[-1]"
   ]
  },
  {
   "cell_type": "code",
   "execution_count": 10,
   "metadata": {},
   "outputs": [
    {
     "data": {
      "text/plain": [
       "'mislav'"
      ]
     },
     "execution_count": 10,
     "metadata": {},
     "output_type": "execute_result"
    }
   ],
   "source": [
    "solution(['mislav', 'stanko', 'mislav', 'ana'],['stanko', 'ana', 'mislav'])"
   ]
  },
  {
   "cell_type": "code",
   "execution_count": null,
   "metadata": {},
   "outputs": [],
   "source": []
  }
 ],
 "metadata": {
  "kernelspec": {
   "display_name": "Python 3",
   "language": "python",
   "name": "python3"
  },
  "language_info": {
   "codemirror_mode": {
    "name": "ipython",
    "version": 3
   },
   "file_extension": ".py",
   "mimetype": "text/x-python",
   "name": "python",
   "nbconvert_exporter": "python",
   "pygments_lexer": "ipython3",
   "version": "3.7.6"
  }
 },
 "nbformat": 4,
 "nbformat_minor": 4
}
