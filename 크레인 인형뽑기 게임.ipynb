{
 "cells": [
  {
   "cell_type": "markdown",
   "metadata": {},
   "source": [
    "# 크레인 인형뽑기 게임"
   ]
  },
  {
   "cell_type": "code",
   "execution_count": 100,
   "metadata": {},
   "outputs": [],
   "source": [
    "def solution(board, moves):\n",
    "    answer = 0\n",
    "    result_list = list()\n",
    "    \n",
    "    for move in moves:\n",
    "        move = move-1\n",
    "        # 크레인에 의해 선택된 열 리스트         \n",
    "        column_list = [board[row][move] for row in range(len(board))]   \n",
    "        # 크레인 move에 해당되는 열이 공백 일경우 다음 move 수행\n",
    "        if column_list[-1] == 0:\n",
    "            continue\n",
    "            \n",
    "         # 크레인 move에 해당되는 열에 상위에 있는 인형의 값\n",
    "        for index, data in enumerate(column_list):\n",
    "            if data != 0:\n",
    "                # 바구니 리스트에 이동된 인형 추가\n",
    "                result_list.append(board[index][move])\n",
    "                # 크레인에 의해 이동된 자리에 0 값으로 대체                 \n",
    "                board[index][move] = 0\n",
    "        \n",
    "                # 바구니 리스트에 상위 인형과 이동된 인형이 일치할 경우     \n",
    "                if len(result_list) > 1:\n",
    "                    if result_list[-1] == result_list[-2]:\n",
    "                        # 바구니 리스트에 연속된 인형 제거\n",
    "                        result_list.pop()\n",
    "                        result_list.pop()\n",
    "                        # 결과 카운트\n",
    "                        answer+=2\n",
    "                \n",
    "                break\n",
    "        \n",
    "    return answer"
   ]
  },
  {
   "cell_type": "code",
   "execution_count": null,
   "metadata": {},
   "outputs": [],
   "source": []
  }
 ],
 "metadata": {
  "kernelspec": {
   "display_name": "Python 3",
   "language": "python",
   "name": "python3"
  },
  "language_info": {
   "codemirror_mode": {
    "name": "ipython",
    "version": 3
   },
   "file_extension": ".py",
   "mimetype": "text/x-python",
   "name": "python",
   "nbconvert_exporter": "python",
   "pygments_lexer": "ipython3",
   "version": "3.7.6"
  }
 },
 "nbformat": 4,
 "nbformat_minor": 4
}
