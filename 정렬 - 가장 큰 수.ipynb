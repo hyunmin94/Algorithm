{
 "cells": [
  {
   "cell_type": "markdown",
   "metadata": {},
   "source": [
    " ## 방법 1 : permutations 순열 사용"
   ]
  },
  {
   "cell_type": "code",
   "execution_count": 202,
   "metadata": {},
   "outputs": [],
   "source": [
    "# permutations : 순열 모듈 사용\n",
    "from itertools import permutations as per\n",
    "\n",
    "def solution(numbers):\n",
    "    return str(int(max([\"\".join(number) for number in per(map(str,numbers))])))"
   ]
  },
  {
   "cell_type": "code",
   "execution_count": 203,
   "metadata": {},
   "outputs": [
    {
     "data": {
      "text/plain": [
       "'9534330'"
      ]
     },
     "execution_count": 203,
     "metadata": {},
     "output_type": "execute_result"
    }
   ],
   "source": [
    "solution([3, 30, 34, 5, 9])"
   ]
  },
  {
   "cell_type": "markdown",
   "metadata": {},
   "source": [
    "## 방법 2 : 예외처리 함수 생성 후 작업"
   ]
  },
  {
   "cell_type": "code",
   "execution_count": 204,
   "metadata": {},
   "outputs": [],
   "source": [
    "# 정렬 기준 생성 \n",
    "def number_sort(x):\n",
    "    if len(x) == 1:\n",
    "        return int(x) * 111\n",
    "    elif len(x) == 2: \n",
    "        return int(x) * 10 + int(x[0]) + [0.1, -0.1][x[0] > x[1]]\n",
    "    elif len(x) == 3:\n",
    "        return int(x)\n",
    "    else:\n",
    "        return 1\n",
    "\n",
    "def solution(numbers):\n",
    "    return str(int(\"\".join(sorted(map(str,numbers), key = number_sort, reverse=True))))"
   ]
  },
  {
   "cell_type": "code",
   "execution_count": 205,
   "metadata": {},
   "outputs": [
    {
     "data": {
      "text/plain": [
       "'9534330'"
      ]
     },
     "execution_count": 205,
     "metadata": {},
     "output_type": "execute_result"
    }
   ],
   "source": [
    "solution([3, 30, 34, 5, 9])"
   ]
  },
  {
   "cell_type": "markdown",
   "metadata": {},
   "source": [
    "## 방법 3 : 문자열의 경우 첫번째 자리부터 순차적으로 비교해서 정렬하기 때문에 \n",
    "### 예시) \"12\" * 3 : \"121212\"  -> 1부터 마지막 2까지 순차적으로 비교"
   ]
  },
  {
   "cell_type": "code",
   "execution_count": 11,
   "metadata": {},
   "outputs": [],
   "source": [
    "def solution(numbers):\n",
    "    str_numbers = list(map(str, numbers))\n",
    "    str_numbers.sort(key=lambda x: x*3, reverse=True)\n",
    "    return str(int(''.join(str_numbers)))"
   ]
  },
  {
   "cell_type": "code",
   "execution_count": 12,
   "metadata": {
    "scrolled": true
   },
   "outputs": [
    {
     "data": {
      "text/plain": [
       "'9534330'"
      ]
     },
     "execution_count": 12,
     "metadata": {},
     "output_type": "execute_result"
    }
   ],
   "source": [
    "solution([3, 30, 34, 5, 9])"
   ]
  },
  {
   "cell_type": "markdown",
   "metadata": {},
   "source": [
    "## 방법 4 : functools 모듈의 cmp_to_key함수"
   ]
  },
  {
   "cell_type": "code",
   "execution_count": 9,
   "metadata": {},
   "outputs": [],
   "source": [
    "from functools import cmp_to_key\n",
    "\n",
    "def solution(numbers):\n",
    "    str_numbers = map(str,numbers)\n",
    "    sorted_numbers = sorted(str_numbers, key=cmp_to_key(lambda a,b: int(a+b)-int(b+a)),reverse=True)\n",
    "    return str(int(''.join(sorted_numbers)))"
   ]
  },
  {
   "cell_type": "code",
   "execution_count": 10,
   "metadata": {},
   "outputs": [
    {
     "data": {
      "text/plain": [
       "'9534330'"
      ]
     },
     "execution_count": 10,
     "metadata": {},
     "output_type": "execute_result"
    }
   ],
   "source": [
    "solution([3, 30, 34, 5, 9])"
   ]
  },
  {
   "cell_type": "code",
   "execution_count": null,
   "metadata": {},
   "outputs": [],
   "source": []
  }
 ],
 "metadata": {
  "kernelspec": {
   "display_name": "Python 3",
   "language": "python",
   "name": "python3"
  },
  "language_info": {
   "codemirror_mode": {
    "name": "ipython",
    "version": 3
   },
   "file_extension": ".py",
   "mimetype": "text/x-python",
   "name": "python",
   "nbconvert_exporter": "python",
   "pygments_lexer": "ipython3",
   "version": "3.7.6"
  }
 },
 "nbformat": 4,
 "nbformat_minor": 4
}
