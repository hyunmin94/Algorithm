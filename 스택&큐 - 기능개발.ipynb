{
 "cells": [
  {
   "cell_type": "code",
   "execution_count": 8,
   "metadata": {},
   "outputs": [],
   "source": [
    "from math import ceil\n",
    "from collections import deque\n",
    "\n",
    "def solution(progresses, speeds):\n",
    "    answer = []\n",
    "    rele_days = deque([])\n",
    "    \n",
    "    # 각 작업의 배포일수를 계산한 리스트 생성\n",
    "    for progress, speed in zip(progresses, speeds):\n",
    "        rele_days.append(ceil((100 - progress) / speed))\n",
    "        \n",
    "    while rele_days:\n",
    "        stand_day = rele_days.popleft()\n",
    "        count = 1\n",
    "        \n",
    "        for _ in range(len(rele_days)):\n",
    "            if stand_day >= rele_days[0]:\n",
    "                rele_days.popleft()\n",
    "                count+=1\n",
    "            else:\n",
    "                break\n",
    "                \n",
    "        answer.append(count)\n",
    "        \n",
    "    return answer"
   ]
  },
  {
   "cell_type": "code",
   "execution_count": 9,
   "metadata": {},
   "outputs": [
    {
     "data": {
      "text/plain": [
       "[2, 4]"
      ]
     },
     "execution_count": 9,
     "metadata": {},
     "output_type": "execute_result"
    }
   ],
   "source": [
    "solution([93, 30, 55, 60, 40, 65],[1, 30, 5 , 10, 60, 7])"
   ]
  }
 ],
 "metadata": {
  "kernelspec": {
   "display_name": "Python 3",
   "language": "python",
   "name": "python3"
  },
  "language_info": {
   "codemirror_mode": {
    "name": "ipython",
    "version": 3
   },
   "file_extension": ".py",
   "mimetype": "text/x-python",
   "name": "python",
   "nbconvert_exporter": "python",
   "pygments_lexer": "ipython3",
   "version": "3.7.6"
  }
 },
 "nbformat": 4,
 "nbformat_minor": 4
}
