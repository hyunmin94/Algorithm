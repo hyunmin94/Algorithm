{
 "cells": [
  {
   "cell_type": "markdown",
   "metadata": {},
   "source": [
    "## 1) 기본 문법을 사용한 풀이"
   ]
  },
  {
   "cell_type": "code",
   "execution_count": 3,
   "metadata": {},
   "outputs": [],
   "source": [
    "def solution(answers):\n",
    "    first_person = [1,2,3,4,5]\n",
    "    second_person = [2,1,2,3,2,4,2,5]\n",
    "    third_person = [3,3,1,1,2,2,4,4,5,5]\n",
    "    person_result = [0, 0, 0]\n",
    "    result = []\n",
    "    \n",
    "    for i in range(len(answers)):\n",
    "        person_result[0] +=  [0,1][first_person[i%len(first_person)] == answers[i]]\n",
    "        person_result[1] +=  [0,1][second_person[i%len(second_person)] == answers[i]]\n",
    "        person_result[2] +=  [0,1][third_person[i%len(third_person)] == answers[i]]\n",
    "         \n",
    "    for i in range(3):\n",
    "        if person_result[i] == max(person_result):\n",
    "            result.append(i+1)\n",
    "    return result"
   ]
  },
  {
   "cell_type": "code",
   "execution_count": 2,
   "metadata": {
    "scrolled": true
   },
   "outputs": [
    {
     "data": {
      "text/plain": [
       "[1, 2, 3]"
      ]
     },
     "execution_count": 2,
     "metadata": {},
     "output_type": "execute_result"
    }
   ],
   "source": [
    "solution([1,3,2,4,2])"
   ]
  },
  {
   "cell_type": "markdown",
   "metadata": {},
   "source": [
    "## 2) itertools 모듈의 cycle 함수를 활용한 풀이"
   ]
  },
  {
   "cell_type": "code",
   "execution_count": 5,
   "metadata": {},
   "outputs": [],
   "source": [
    "from itertools import cycle\n",
    "\n",
    "def solution(answers):\n",
    "    first_person = cycle([1,2,3,4,5])\n",
    "    second_person = cycle([2,1,2,3,2,4,2,5])\n",
    "    third_person = cycle([3,3,1,1,2,2,4,4,5,5])\n",
    "    person_result = [0, 0, 0]\n",
    "    result = []\n",
    "    \n",
    "    for i in range(len(answers)):\n",
    "        person_result[0] +=  [0,1][next(first_person) == answers[i]]\n",
    "        person_result[1] +=  [0,1][next(second_person) == answers[i]]\n",
    "        person_result[2] +=  [0,1][next(third_person) == answers[i]]\n",
    "         \n",
    "    for i in range(3):\n",
    "        if person_result[i] == max(person_result):\n",
    "            result.append(i+1)\n",
    "    return result"
   ]
  },
  {
   "cell_type": "code",
   "execution_count": 6,
   "metadata": {},
   "outputs": [
    {
     "data": {
      "text/plain": [
       "[1, 2, 3]"
      ]
     },
     "execution_count": 6,
     "metadata": {},
     "output_type": "execute_result"
    }
   ],
   "source": [
    "solution([1,3,2,4,2])"
   ]
  },
  {
   "cell_type": "code",
   "execution_count": 7,
   "metadata": {},
   "outputs": [
    {
     "data": {
      "text/plain": [
       "itertools.cycle"
      ]
     },
     "execution_count": 7,
     "metadata": {},
     "output_type": "execute_result"
    }
   ],
   "source": [
    "type(cycle([1,2,3]))"
   ]
  },
  {
   "cell_type": "code",
   "execution_count": null,
   "metadata": {},
   "outputs": [],
   "source": []
  }
 ],
 "metadata": {
  "kernelspec": {
   "display_name": "Python 3",
   "language": "python",
   "name": "python3"
  },
  "language_info": {
   "codemirror_mode": {
    "name": "ipython",
    "version": 3
   },
   "file_extension": ".py",
   "mimetype": "text/x-python",
   "name": "python",
   "nbconvert_exporter": "python",
   "pygments_lexer": "ipython3",
   "version": "3.7.6"
  }
 },
 "nbformat": 4,
 "nbformat_minor": 4
}
