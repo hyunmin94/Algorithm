{
 "cells": [
  {
   "cell_type": "code",
   "execution_count": 1,
   "metadata": {},
   "outputs": [],
   "source": [
    "def solution(genres, plays):\n",
    "    answer = []\n",
    "    genres_dict = {gen:list() for gen in set(genres)}\n",
    "    \n",
    "    for index, (kind, count) in enumerate(zip(genres, plays)):\n",
    "        genres_dict[kind].append((count,index))\n",
    "        \n",
    "    # 노래 장르별 전체 노래의 재생횟수가 많은 순으로 정렬(내림차순)\n",
    "    sort_values = sorted(genres_dict.values(), key=lambda x: sum([value[0] for value in x]), reverse= True)\n",
    "    \n",
    "    for counts in sort_values:\n",
    "        # 1 순위 : 재생횟수를 기준으로 내림차순\n",
    "        # 2 순위 : 교유번호를 기준으로 오름차순\n",
    "        counts.sort(key=lambda x: (x[0],-x[1]), reverse= True)\n",
    "        \n",
    "        # 노래 장르에 따른 재생횟수가 가장 많은 곡을 1개 이상 2개 이하의 베스트앨범만 추출하기위해 min 함수를 사용하여 \n",
    "        # 리스트 컴프리헨션의 반복횟수를 조절하여 고유번호를 추출한다.\n",
    "        answer.extend([counts[indx][1] for indx in range(min(len(counts),2))])\n",
    "    return answer"
   ]
  },
  {
   "cell_type": "code",
   "execution_count": 2,
   "metadata": {},
   "outputs": [
    {
     "data": {
      "text/plain": [
       "[4, 1, 3, 0]"
      ]
     },
     "execution_count": 2,
     "metadata": {},
     "output_type": "execute_result"
    }
   ],
   "source": [
    "genres = ['classic', 'pop', 'classic', 'classic', 'pop']\n",
    "plays = [500, 600, 150, 800, 2500]\n",
    "solution(genres, plays)"
   ]
  },
  {
   "cell_type": "code",
   "execution_count": null,
   "metadata": {},
   "outputs": [],
   "source": []
  }
 ],
 "metadata": {
  "kernelspec": {
   "display_name": "Python 3",
   "language": "python",
   "name": "python3"
  },
  "language_info": {
   "codemirror_mode": {
    "name": "ipython",
    "version": 3
   },
   "file_extension": ".py",
   "mimetype": "text/x-python",
   "name": "python",
   "nbconvert_exporter": "python",
   "pygments_lexer": "ipython3",
   "version": "3.7.6"
  }
 },
 "nbformat": 4,
 "nbformat_minor": 4
}
