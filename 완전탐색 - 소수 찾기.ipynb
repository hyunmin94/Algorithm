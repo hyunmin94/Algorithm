{
 "cells": [
  {
   "cell_type": "code",
   "execution_count": 90,
   "metadata": {},
   "outputs": [],
   "source": [
    "from itertools import permutations as per\n",
    "\n",
    "def solution(numbers):\n",
    "    answer = 0\n",
    "    numbers_list = set()\n",
    "    \n",
    "    for length in range(1,len(numbers)+1):\n",
    "        numbers_list |= set([int(\"\".join(data)) for data in per(numbers,length)])\n",
    "        \n",
    "    numbers_list = numbers_list - set(range(2))\n",
    "    \n",
    "    for number in numbers_list:\n",
    "        breaker = True\n",
    "        for part in range(2, int(number ** 0.5)+1):\n",
    "            if number % part == 0:\n",
    "                breaker = False\n",
    "                break\n",
    "        if breaker: answer+=1\n",
    "    return answer"
   ]
  },
  {
   "cell_type": "code",
   "execution_count": 92,
   "metadata": {},
   "outputs": [
    {
     "data": {
      "text/plain": [
       "5"
      ]
     },
     "execution_count": 92,
     "metadata": {},
     "output_type": "execute_result"
    }
   ],
   "source": [
    "solution(\"123\")"
   ]
  },
  {
   "cell_type": "code",
   "execution_count": null,
   "metadata": {},
   "outputs": [],
   "source": []
  }
 ],
 "metadata": {
  "kernelspec": {
   "display_name": "Python 3",
   "language": "python",
   "name": "python3"
  },
  "language_info": {
   "codemirror_mode": {
    "name": "ipython",
    "version": 3
   },
   "file_extension": ".py",
   "mimetype": "text/x-python",
   "name": "python",
   "nbconvert_exporter": "python",
   "pygments_lexer": "ipython3",
   "version": "3.7.6"
  }
 },
 "nbformat": 4,
 "nbformat_minor": 4
}
