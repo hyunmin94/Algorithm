{
 "cells": [
  {
   "cell_type": "code",
   "execution_count": 11,
   "metadata": {},
   "outputs": [],
   "source": [
    "def solution(priorities, location):\n",
    "    # 입력데이터(priorities)의 원소 인덱스를 저장하는 변수 \n",
    "    paper_list = list(range(len(priorities)))\n",
    "    # 인쇄를 요청한 문서의 인덱스 위치를 갖는 변수 \n",
    "    location_val = paper_list[location]\n",
    "    \n",
    "    # 입력데이터(priorities)의 내림차순 정렬\n",
    "    for index in range(len(priorities)):\n",
    "        # 범위내의 입력데이터들의 최대값의 원소 인덱스를 구함\n",
    "        max_arg = priorities[index:].index(max(priorities[index:])) + index\n",
    "        # 해당 원소의 위치부터 최대값 원소의 위치까지의 FIFO 작업 \n",
    "        for loop in range(index, max_arg):\n",
    "            priorities.append(priorities.pop(index))\n",
    "            paper_list.append(paper_list.pop(index))\n",
    "    # 리턴값은 인덱스 위치를 1부터 계산하기 때문에 (입력데이터(priorities)의 인덱스값 + 1) 을 한다.\n",
    "    return paper_list.index(location_val) + 1"
   ]
  },
  {
   "cell_type": "code",
   "execution_count": 12,
   "metadata": {},
   "outputs": [
    {
     "data": {
      "text/plain": [
       "5"
      ]
     },
     "execution_count": 12,
     "metadata": {},
     "output_type": "execute_result"
    }
   ],
   "source": [
    "solution([4,5,4,2,3,6,7,8,3], 2)"
   ]
  },
  {
   "cell_type": "code",
   "execution_count": null,
   "metadata": {},
   "outputs": [],
   "source": []
  }
 ],
 "metadata": {
  "kernelspec": {
   "display_name": "Python 3",
   "language": "python",
   "name": "python3"
  },
  "language_info": {
   "codemirror_mode": {
    "name": "ipython",
    "version": 3
   },
   "file_extension": ".py",
   "mimetype": "text/x-python",
   "name": "python",
   "nbconvert_exporter": "python",
   "pygments_lexer": "ipython3",
   "version": "3.7.6"
  }
 },
 "nbformat": 4,
 "nbformat_minor": 4
}
